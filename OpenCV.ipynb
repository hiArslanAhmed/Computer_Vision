{
 "cells": [
  {
   "attachments": {},
   "cell_type": "markdown",
   "metadata": {},
   "source": [
    "### _**Start Learning**_\n",
    "# **Computer Vison(Open CV)**"
   ]
  },
  {
   "attachments": {},
   "cell_type": "markdown",
   "metadata": {},
   "source": [
    "**01** - Reading an image and displaying it"
   ]
  },
  {
   "cell_type": "code",
   "execution_count": 4,
   "metadata": {},
   "outputs": [
    {
     "data": {
      "text/plain": [
       "-1"
      ]
     },
     "execution_count": 4,
     "metadata": {},
     "output_type": "execute_result"
    }
   ],
   "source": [
    "# import Libraries\n",
    "import cv2 as cv\n",
    "import numpy as np\n",
    "\n",
    "# Load image\n",
    "img = cv.imread(\"resources/picture.jpg\")\n",
    "cv.imshow(\"first image\",img)\n",
    "cv.waitKey(0)"
   ]
  },
  {
   "attachments": {},
   "cell_type": "markdown",
   "metadata": {},
   "source": [
    "**02** - Resize the image"
   ]
  },
  {
   "cell_type": "code",
   "execution_count": 6,
   "metadata": {},
   "outputs": [],
   "source": [
    "# import Libraries\n",
    "import cv2 as cv\n",
    "import numpy as np\n",
    "\n",
    "# Load image\n",
    "img = cv.imread(\"resources/picture.jpg\")\n",
    "img = cv.resize(img,(600,600))\n",
    "cv.imshow(\"Second Image image\",img)\n",
    "\n",
    "# Delay code\n",
    "cv.waitKey(0) \n",
    "\n",
    "# For closing all the windows\n",
    "cv.destroyAllWindows()"
   ]
  },
  {
   "attachments": {},
   "cell_type": "markdown",
   "metadata": {},
   "source": [
    "**03** - Conveting into Gray Scale"
   ]
  },
  {
   "cell_type": "code",
   "execution_count": 6,
   "metadata": {},
   "outputs": [
    {
     "data": {
      "text/plain": [
       "-1"
      ]
     },
     "execution_count": 6,
     "metadata": {},
     "output_type": "execute_result"
    }
   ],
   "source": [
    "# import Libraries\n",
    "import cv2 as cv\n",
    "import numpy as np\n",
    "\n",
    "# Load image\n",
    "img = cv.imread(\"resources/picture.jpg\")\n",
    "img = cv.resize(img,(600,600))\n",
    "\n",
    "# Conveting into Gray Scale\n",
    "gray = cv.cvtColor(img,cv.COLOR_BGR2GRAY)\n",
    "\n",
    "cv.imshow(\"Gray\",gray)\n",
    "cv.waitKey(0)"
   ]
  },
  {
   "attachments": {},
   "cell_type": "markdown",
   "metadata": {},
   "source": [
    "**04** - Conveting Image into Black and White"
   ]
  },
  {
   "cell_type": "code",
   "execution_count": 6,
   "metadata": {},
   "outputs": [],
   "source": [
    "# Import Library\n",
    "import cv2 as cv\n",
    "\n",
    "img = cv.imread(\"resources/arslan.jpg\")\n",
    "img = cv.resize(img,(600,600))\n",
    "\n",
    "# first we change it into gray\n",
    "grey = cv.cvtColor(img, cv.COLOR_BGR2GRAY)\n",
    "grey = cv.resize(grey,(600,600))\n",
    "(thresh, binary) = cv.threshold(grey,127,255,cv.THRESH_BINARY)\n",
    "binary = cv.resize(binary,(600,600))\n",
    "cv.imshow(\"original\", img)\n",
    "cv.imshow(\"gary\", grey)\n",
    "cv.imshow(\"black and white\", binary)\n",
    "cv.waitKey(0)\n",
    "cv.destroyAllWindows()"
   ]
  },
  {
   "attachments": {},
   "cell_type": "markdown",
   "metadata": {},
   "source": [
    "**05** - Saving an image / writing an image"
   ]
  },
  {
   "cell_type": "code",
   "execution_count": 8,
   "metadata": {},
   "outputs": [],
   "source": [
    "# Import Library\n",
    "import cv2 as cv\n",
    "from cv2 import imshow\n",
    "from cv2 import imwrite\n",
    "\n",
    "img = cv.imread(\"resources/arslan.jpg\")\n",
    "img = cv.resize(img,(800,600))\n",
    "\n",
    "gray = cv.cvtColor(img, cv.COLOR_BGR2GRAY)\n",
    "(thresh, binary) = cv.threshold(gray,127,255,cv.THRESH_BINARY)\n",
    "gray = cv.resize(gray,(450,800))\n",
    "\n",
    "# saving an image \n",
    "imwrite(\"resources/image_gray.png\", gray)\n",
    "imwrite(\"resources/image_bw.png\",binary)\n",
    "cv.waitKey(0)\n",
    "cv.destroyAllWindows()"
   ]
  },
  {
   "attachments": {},
   "cell_type": "markdown",
   "metadata": {},
   "source": [
    "**06** - Reading a Video "
   ]
  },
  {
   "cell_type": "code",
   "execution_count": 9,
   "metadata": {},
   "outputs": [],
   "source": [
    "# Import Libraries\n",
    "import cv2 as cv\n",
    "cap = cv.VideoCapture(\"resources/video.mp4\")\n",
    "# Indicator\n",
    "if (cap.isOpened() == False):\n",
    "    print(\"error in Reading Video\")\n",
    "\n",
    "# Reading and Playing\n",
    "while (cap.isOpened()):\n",
    "    ret, frame = cap.read()\n",
    "    if ret == True:\n",
    "        cv.imshow(\"video\", frame)\n",
    "        if cv.waitKey(1) & 0xFF == ord(\"q\"):\n",
    "            break\n",
    "    else:\n",
    "        break\n",
    "\n",
    "cap.release()\n",
    "cv.destroyAllWindows()"
   ]
  },
  {
   "attachments": {},
   "cell_type": "markdown",
   "metadata": {},
   "source": [
    "**07** - Converting Video into Gray,black n White"
   ]
  },
  {
   "cell_type": "code",
   "execution_count": 10,
   "metadata": {},
   "outputs": [],
   "source": [
    "# Converting in gray\n",
    "# Import Libraries\n",
    "import cv2 as cv\n",
    "cap = cv.VideoCapture(\"resources/video.mp4\")\n",
    "while (True):\n",
    "    (ret, frame) = cap.read()\n",
    "    grayframe = cv.cvtColor(frame, cv.COLOR_BGR2GRAY)\n",
    "\n",
    "    # to show in player\n",
    "    if ret == True:\n",
    "        cv.imshow(\"video\", grayframe)\n",
    "\n",
    "        # this function is Quit with q key\n",
    "        if cv.waitKey(1) & 0xFF == ord(\"q\"):\n",
    "            break\n",
    "    else:\n",
    "        break\n",
    "cap.release()\n",
    "cv.destroyAllWindows()"
   ]
  },
  {
   "cell_type": "code",
   "execution_count": 4,
   "metadata": {},
   "outputs": [],
   "source": [
    "# Converting in Black n white\n",
    "# Import Libraries\n",
    "import cv2 as cv\n",
    "cap = cv.VideoCapture(\"resources/video.mp4\")\n",
    "while (True):\n",
    "    (ret, frame) = cap.read()\n",
    "    grayframe = cv.cvtColor(frame, cv.COLOR_BGR2GRAY)\n",
    "    (thresh, binary) = cv.threshold(grayframe,127,255,cv.THRESH_BINARY)\n",
    "    \n",
    "\n",
    "    # to show in player\n",
    "    if ret == True:\n",
    "        cv.imshow(\"video\", binary)\n",
    "\n",
    "        # this function is Quit with q key\n",
    "        if cv.waitKey(1) & 0xFF == ord(\"q\"):\n",
    "            break\n",
    "    else:\n",
    "        break\n",
    "cap.release()\n",
    "cv.destroyAllWindows()"
   ]
  },
  {
   "attachments": {},
   "cell_type": "markdown",
   "metadata": {},
   "source": [
    "**08** - Saving Video in Gray_Frame"
   ]
  },
  {
   "cell_type": "code",
   "execution_count": 12,
   "metadata": {},
   "outputs": [],
   "source": [
    "# saving video in grayframe\n",
    "# Import Libraries\n",
    "import cv2 as cv\n",
    "from matplotlib.colors import is_color_like\n",
    "cap = cv.VideoCapture(\"resources/video.mp4\")\n",
    "\n",
    "# writing format, codec, video writer object and file output\n",
    "frame_width = int(cap.get(3))\n",
    "frame_height = int(cap.get(4))\n",
    "out = cv.VideoWriter(\"resources/out_video.avi\", cv.VideoWriter_fourcc(\"M\",\"J\",\"P\",\"G\"),10,(frame_width, frame_height), isColor = False)\n",
    "while (True):\n",
    "    (ret, frame) = cap.read()\n",
    "    grayframe = cv.cvtColor(frame, cv.COLOR_BGR2GRAY)\n",
    "\n",
    "    # to show in player\n",
    "    if ret == True:\n",
    "        out.write(grayframe)\n",
    "        cv.imshow(\"video\", grayframe)\n",
    "\n",
    "        # this function is Quit with q key\n",
    "        if cv.waitKey(1) & 0xFF == ord(\"q\"):\n",
    "            break\n",
    "    else:\n",
    "        break\n",
    "cap.release()\n",
    "out.release()\n",
    "cv.destroyAllWindows()"
   ]
  },
  {
   "attachments": {},
   "cell_type": "markdown",
   "metadata": {},
   "source": [
    "**09** - How to capture a webcame inside python"
   ]
  },
  {
   "cell_type": "code",
   "execution_count": 2,
   "metadata": {},
   "outputs": [],
   "source": [
    "# Import Libraries\n",
    "import cv2 as cv\n",
    "import numpy as np\n",
    "\n",
    "cap = cv.VideoCapture(0) # Webcame no 1\n",
    "\n",
    "# Read untill the end\n",
    "while(cap.isOpened()):\n",
    "    # Capture Frame by Frame\n",
    "    ret, frame = cap.read()\n",
    "    if ret == True:\n",
    "        # to dispaly Frame\n",
    "        cv.imshow(\"Frame\", frame)\n",
    "        # to quit with q \n",
    "        if cv.waitKey(1) & 0xFF == ord(\"q\"):\n",
    "            break\n",
    "cap.release()\n",
    "cv.destroyAllWindows()\n"
   ]
  },
  {
   "attachments": {},
   "cell_type": "markdown",
   "metadata": {},
   "source": [
    "**10** - Converting into different Sahdes Balck n White and gray"
   ]
  },
  {
   "cell_type": "code",
   "execution_count": 4,
   "metadata": {},
   "outputs": [],
   "source": [
    "# Import libraries\n",
    "from tkinter import Frame\n",
    "import cv2 as cv\n",
    "import numpy as np\n",
    "\n",
    "cap = cv.VideoCapture(0)\n",
    "\n",
    "while(True):\n",
    "    ret, frame = cap.read()\n",
    "    gray_frame = cv.cvtColor(frame, cv.COLOR_BGR2GRAY)\n",
    "    (thresh, binary) = cv.threshold(gray_frame,127,255,cv.THRESH_BINARY)\n",
    "\n",
    "    cv.imshow(\"original\", frame)\n",
    "    cv.imshow(\"gray_cam\", gray_frame)\n",
    "    cv.imshow(\"Binary_cam\", binary)\n",
    "    if cv.waitKey(1) & 0xFF == ord(\"q\"):\n",
    "        break\n",
    "cap.release()\n",
    "cv.destroyAllWindows()"
   ]
  },
  {
   "attachments": {},
   "cell_type": "markdown",
   "metadata": {},
   "source": [
    "**11** - Writing videos from cam"
   ]
  },
  {
   "cell_type": "code",
   "execution_count": 7,
   "metadata": {},
   "outputs": [],
   "source": [
    "# Import Libraries\n",
    "import cv2 as cv\n",
    "import numpy as np\n",
    "cap = cv.VideoCapture(0)\n",
    "\n",
    "# writing format, codec, video writer object and file output\n",
    "frame_width = int(cap.get(3))\n",
    "frame_height = int(cap.get(4))\n",
    "out = cv.VideoWriter(\"resources/cam_video.avi\", cv.VideoWriter_fourcc(\"M\",\"J\",\"P\",\"G\"),10,(frame_width, frame_height))\n",
    "while (True):\n",
    "    (ret, frame) = cap.read()\n",
    "\n",
    "    # to show in player\n",
    "    if ret == True:\n",
    "        out.write(frame)\n",
    "        cv.imshow(\"video\", frame)\n",
    "\n",
    "        # this function is Quit with q key\n",
    "        if cv.waitKey(1) & 0xFF == ord(\"q\"):\n",
    "            break\n",
    "    else:\n",
    "        break\n",
    "cap.release()\n",
    "out.release()\n",
    "cv.destroyAllWindows()"
   ]
  },
  {
   "cell_type": "code",
   "execution_count": 3,
   "metadata": {},
   "outputs": [],
   "source": [
    "# saving Video into Gray Frame\n",
    "# Import Libraries\n",
    "import cv2 as cv\n",
    "import numpy as np\n",
    "cap = cv.VideoCapture(0)\n",
    "\n",
    "# writing format, codec, video writer object and file output\n",
    "frame_width = int(cap.get(3))\n",
    "frame_height = int(cap.get(4))\n",
    "out = cv.VideoWriter(\"resources/cam_video.avi\", cv.VideoWriter_fourcc(\"M\",\"J\",\"P\",\"G\"),10,(frame_width, frame_height), isColor = False)\n",
    "while (True):\n",
    "    (ret, frame) = cap.read()\n",
    "    gray_frame = cv.cvtColor(frame, cv.COLOR_BGR2GRAY)\n",
    "\n",
    "    # to show in player\n",
    "    if ret == True:\n",
    "        out.write(gray_frame)\n",
    "        cv.imshow(\"video\", gray_frame)\n",
    "\n",
    "        # this function is Quit with q key\n",
    "        if cv.waitKey(1) & 0xFF == ord(\"q\"):\n",
    "            break\n",
    "    else:\n",
    "        break\n",
    "cap.release()\n",
    "out.release()\n",
    "cv.destroyAllWindows()"
   ]
  },
  {
   "attachments": {},
   "cell_type": "markdown",
   "metadata": {},
   "source": [
    "**12** - Setting of camera or video"
   ]
  },
  {
   "cell_type": "code",
   "execution_count": 15,
   "metadata": {},
   "outputs": [],
   "source": [
    "# Import library\n",
    "import cv2 as cv\n",
    "import numpy as np\n",
    "cap = cv.VideoCapture(0)\n",
    "\n",
    "cap.set(10, 50) # 10 is the key to set the brightnes\n",
    "# setting the width of camera\n",
    "cap.set(3, 1080) # Width key is 3\n",
    "cap.set(3, 1920) # height key is 4\n",
    "\n",
    "while(True):\n",
    "    ret, frame = cap.read()\n",
    "    if ret == True:\n",
    "        cv.imshow(\"frame\", frame)\n",
    "        if cv.waitKey(1) & 0xFF == ord(\"q\"):\n",
    "            break\n",
    "\n",
    "cap.release()\n",
    "cv.destroyAllWindows()\n"
   ]
  },
  {
   "attachments": {},
   "cell_type": "markdown",
   "metadata": {},
   "source": [
    "**13** - Basic Function and manipulation in open cv"
   ]
  },
  {
   "cell_type": "code",
   "execution_count": 5,
   "metadata": {},
   "outputs": [
    {
     "name": "stdout",
     "output_type": "stream",
     "text": [
      "The size of our image is: (700, 500, 3)\n"
     ]
    }
   ],
   "source": [
    "# import Library\n",
    "import cv2 as cv\n",
    "import numpy as np\n",
    "\n",
    "# Load Image\n",
    "img = cv.imread(\"resources/image.jpg\")\n",
    "img = cv.resize(img, (500,700))\n",
    "\n",
    "# resize image\n",
    "resized_img = cv.resize(img, (100,50))\n",
    "\n",
    "# Gray\n",
    "gray_img = cv.cvtColor(img, cv.COLOR_BGR2GRAY)\n",
    "\n",
    "# Blured image\n",
    "blur_image = cv.GaussianBlur(img, (33,33),0)\n",
    "\n",
    "# Edge Detection\n",
    "edge_img = cv.Canny(img, 160,160) \n",
    "\n",
    "# Thickness of lines\n",
    "mat_kernal = np.ones((4,4), np.uint8)\n",
    "dilated_img = cv.dilate(edge_img,(mat_kernal), iterations=1)\n",
    "\n",
    "# make thinner outline\n",
    "ero_img = cv.erode(dilated_img, mat_kernal, iterations=1)\n",
    "\n",
    "# Cropping(for crop image we will use numpy library)\n",
    "print(\"The size of our image is:\", img.shape)\n",
    "cropped_image = img[80:480, 150:380]\n",
    "\n",
    "# Black and White Image\n",
    "(thresh, binary) = cv.threshold(img,12,258,cv.THRESH_BINARY)\n",
    "\n",
    "\n",
    "cv.imshow(\"Original\", img)\n",
    "# cv.imshow(\"Resize\", resized_img)\n",
    "# cv.imshow(\"Gray\", gray)\n",
    "# cv.imshow(\"Blured Image\", blur_image)\n",
    "# cv.imshow(\"Edge_detection\", edge_img)\n",
    "# cv.imshow(\"Dilate\", dilated_img)\n",
    "# cv.imshow(\"erosion_image\", ero_img)\n",
    "# cv.imshow(\"cropped\", cropped_image)\n",
    "cv.imshow(\"Black and White\", binary)\n",
    "\n",
    "cv.waitKey(0)\n",
    "cv.destroyAllWindows()"
   ]
  },
  {
   "attachments": {},
   "cell_type": "markdown",
   "metadata": {},
   "source": [
    "**14** - How to draw line and shapes in open cv"
   ]
  },
  {
   "cell_type": "code",
   "execution_count": 44,
   "metadata": {},
   "outputs": [
    {
     "name": "stdout",
     "output_type": "stream",
     "text": [
      "the size of our canvas is (600, 600)\n"
     ]
    }
   ],
   "source": [
    "# import Libraries\n",
    "import cv2 as cv\n",
    "import numpy as np\n",
    "\n",
    "# Draw a cnvas 0 is for Black\n",
    "img = np.zeros((600,600))\n",
    "\n",
    "# 1 is for white\n",
    "img1 = np.ones((600,600))\n",
    "\n",
    "# print size\n",
    "print(\"the size of our canvas is\", img.shape)\n",
    "\n",
    "# Adding Colors to the canvas\n",
    "coloured_img = np.zeros((600,600,3), np.uint8) # Color channel addition\n",
    "\n",
    "coloured_img[:] = 255,0,255 # color compelete image\n",
    "\n",
    "coloured_img[150:230, 100:500] = 255,0,1 # Part of image to be coloured\n",
    "\n",
    "# Adding Line\n",
    "cv.line(coloured_img, (0,0),(600,600),(0,0,26),19)\n",
    "\n",
    "cv.line(coloured_img,(0,0),(coloured_img.shape[0], coloured_img.shape[1]),(255,0,0),3)\n",
    "\n",
    "# Adding Rectangle\n",
    "cv.rectangle(coloured_img,(100,100), (300,400), (26,0,0), 5)\n",
    "cv.rectangle(coloured_img,(100,100), (300,400), (26,0,0), cv.FILLED) # fILLED RECTANGLE\n",
    "\n",
    "# Adding circle\n",
    "cv.circle(coloured_img,(400,250), 100, (255,255,255), 3)\n",
    "cv.circle(coloured_img,(400,250), 100, (0,0,0), cv.FILLED) # Filled circle\n",
    "\n",
    "# adding text\n",
    "cv.putText(coloured_img,\"Arslan Ahmed working in open cv\",(80,50), cv.FONT_ITALIC,.8,(26,0,0),3)\n",
    "\n",
    "\n",
    "\n",
    "# cv.imshow(\"Black\", img)\n",
    "# cv.imshow(\"White\", img1)\n",
    "cv.imshow(\"Coloured\", coloured_img)\n",
    "cv.waitKey(0)\n",
    "cv.destroyAllWindows()"
   ]
  },
  {
   "attachments": {},
   "cell_type": "markdown",
   "metadata": {},
   "source": [
    "**15** - RESOLUTION OF CAM\n"
   ]
  },
  {
   "cell_type": "code",
   "execution_count": 16,
   "metadata": {},
   "outputs": [],
   "source": [
    "# import libraries\n",
    "import cv2 as cv\n",
    "import numpy as np\n",
    "cap = cv.VideoCapture(0)\n",
    "# Resolution HD(1280,780)\n",
    "\n",
    "\n",
    "def hd_resolution():\n",
    "    cap.set(3,7680)\n",
    "    cap.set(4,4320)\n",
    "\n",
    "def sd_resolution():\n",
    "    cap.set(3,640)\n",
    "    cap.set(4,480)\n",
    "\n",
    "def fhd_resolution():\n",
    "    cap.set(3,2048)\n",
    "    cap.set(4,1080)    \n",
    "# sd_resolution()\n",
    "# hd_resolution()\n",
    "fhd_resolution()\n",
    "while(True):\n",
    "    ret, frame = cap.read()\n",
    "    if ret == True:\n",
    "        cv.imshow(\"frame\", frame)\n",
    "        if cv.waitKey(1) & 0xFF == ord(\"q\"):\n",
    "            break\n",
    "\n",
    "cap.release()\n",
    "cv.destroyAllWindows()"
   ]
  },
  {
   "attachments": {},
   "cell_type": "markdown",
   "metadata": {},
   "source": [
    "**16** - Saving video in HD"
   ]
  },
  {
   "cell_type": "code",
   "execution_count": 17,
   "metadata": {},
   "outputs": [],
   "source": [
    "# import libraries\n",
    "import cv2 as cv\n",
    "import numpy as np\n",
    "cap = cv.VideoCapture(0)\n",
    "# Resolution HD(1280,780)\n",
    "\n",
    "\n",
    "def hd_resolution():\n",
    "    cap.set(3,7680)\n",
    "    cap.set(4,4320)\n",
    "\n",
    "def sd_resolution():\n",
    "    cap.set(3,640)\n",
    "    cap.set(4,480)\n",
    "\n",
    "def fhd_resolution():\n",
    "    cap.set(3,2048)\n",
    "    cap.set(4,1080)    \n",
    "# sd_resolution()\n",
    "hd_resolution()\n",
    "# fhd_resolution()\n",
    "\n",
    "# writing format, codec, video writer object and file output\n",
    "frame_width = int(cap.get(3))\n",
    "frame_height = int(cap.get(4))\n",
    "out = cv.VideoWriter(\"resources/cam_video.avi\", cv.VideoWriter_fourcc(\"M\",\"J\",\"P\",\"G\"),10,(frame_width, frame_height))\n",
    "while (True):\n",
    "    (ret, frame) = cap.read()\n",
    "\n",
    "    # to show in player\n",
    "    if ret == True:\n",
    "        out.write(frame)\n",
    "        cv.imshow(\"video\", frame)\n",
    "\n",
    "        # this function is Quit with q key\n",
    "        if cv.waitKey(1) & 0xFF == ord(\"q\"):\n",
    "            break\n",
    "    else:\n",
    "        break\n",
    "cap.release()\n",
    "out.release()\n",
    "cv.destroyAllWindows()"
   ]
  },
  {
   "attachments": {},
   "cell_type": "markdown",
   "metadata": {},
   "source": [
    "**17** - joining the video"
   ]
  },
  {
   "cell_type": "code",
   "execution_count": 6,
   "metadata": {},
   "outputs": [],
   "source": [
    "# Import libraries\n",
    "import cv2 as cv\n",
    "import numpy as np\n",
    "\n",
    "img = cv.imread(\"resources/image.jpg\")\n",
    "\n",
    "\n",
    "# Stacking same image\n",
    "\n",
    "# Horizontal stack\n",
    "hor_img = np.hstack((img, img))\n",
    "\n",
    "# vertical Stack\n",
    "ver_img = np.vstack((img, img))\n",
    "\n",
    "\n",
    "\n",
    "\n",
    "cv.imshow(\"Vertical\", ver_img)\n",
    "# cv.imshow(\"Horizontal\", hor_img)\n",
    "cv.waitKey(0)\n",
    "cv.destroyAllWindows()\n",
    "\n",
    "\n",
    "# You can stack image with the same shape(width, height, color channel)\n",
    "# we cannot resize stack image (function lga kr ho skta hai)\n",
    "# sam enumber of channel np function\n",
    "# you have to define a function to stack multiple images of different size and tunes"
   ]
  },
  {
   "attachments": {},
   "cell_type": "markdown",
   "metadata": {},
   "source": [
    "**18** - How to change the perspective of an image"
   ]
  },
  {
   "cell_type": "code",
   "execution_count": 21,
   "metadata": {},
   "outputs": [
    {
     "name": "stdout",
     "output_type": "stream",
     "text": [
      "(600, 600, 3)\n"
     ]
    }
   ],
   "source": [
    "import cv2 as cv\n",
    "import numpy as np\n",
    "\n",
    "img = cv.imread(\"resources/warp.jpg\")\n",
    "img = cv.resize(img,(600,600))\n",
    "print(img.shape)\n",
    "# Defining a point\n",
    "point1 = np.float32([[113,51], [39,387],[463,69],[547,396]])\n",
    "width = 941\n",
    "height = 1280\n",
    "height, width = 1280,941\n",
    "point2 = np.float32([[0,0], [800,0], [0,1280], [941,1280]])\n",
    "matrix = cv.getPerspectiveTransform(point1, point2)\n",
    "out_img = cv.warpPerspective(img,matrix,(width,height))\n",
    "\n",
    "\n",
    "cv.imshow(\"priginal\", img)\n",
    "cv.imshow(\"transformed\",out_img)\n",
    "cv.imwrite(\"resources/warp_prespctive.png\", out_img)\n",
    "cv.waitKey(0)\n",
    "cv.destroyAllWindows()"
   ]
  },
  {
   "attachments": {},
   "cell_type": "markdown",
   "metadata": {},
   "source": [
    "**19** - coordinate of an image or video"
   ]
  },
  {
   "cell_type": "code",
   "execution_count": 14,
   "metadata": {},
   "outputs": [
    {
     "name": "stdout",
     "output_type": "stream",
     "text": [
      "113  51\n",
      "39  387\n",
      "463  69\n",
      "547  396\n"
     ]
    }
   ],
   "source": [
    "# Step 1 - import libraries\n",
    "import cv2 as cv\n",
    "import numpy as np\n",
    "\n",
    "# step 2 - Define a function\n",
    "def find_coord(event, x,y,flags,params):\n",
    "    if event == cv.EVENT_LBUTTONDOWN:\n",
    "        # Left click mouse\n",
    "        print(x, '', y)\n",
    "        # How to define or print on the same image or window\n",
    "        font = cv.FONT_HERSHEY_PLAIN\n",
    "        cv.putText(img,str(x) + \",\" + str(y), (x,y), font, 1, (255,0,0), thickness=2)\n",
    "        # show the test image and imag eitself\n",
    "        cv.imshow(\"image\", img)\n",
    "    # for color finding\n",
    "    if event == cv.EVENT_RBUTTONDOWN:\n",
    "        print(x, '',y)\n",
    "        font = cv.FONT_HERSHEY_SIMPLEX\n",
    "        b = img[y,x,0]\n",
    "        g = img[y,x,1] \n",
    "        r = img[y,x,2]\n",
    "        cv.putText(img, str(b) + ',' + str(g) + ',' + str(r),(x,y), font, 1, (255,0,0),2)\n",
    "        cv.imshow(\"image\", img)\n",
    " \n",
    "# Final funtion to read and dispaly\n",
    "\n",
    "if __name__==\"__main__\":\n",
    "    # reading an iamge\n",
    "    img = cv.imread(\"resources/warp.jpg\",1)\n",
    "    img = cv.resize(img,(600,600))\n",
    "    # display the image\n",
    "    cv.imshow(\"image\",img)\n",
    "    #  setting call back function\n",
    "    cv.setMouseCallback(\"image\",find_coord)\n",
    "    cv.waitKey(0)\n",
    "    cv.destroyAllWindows()"
   ]
  },
  {
   "attachments": {},
   "cell_type": "markdown",
   "metadata": {},
   "source": [
    "**20** - split your videos into frame"
   ]
  },
  {
   "cell_type": "code",
   "execution_count": 4,
   "metadata": {},
   "outputs": [],
   "source": [
    "# import Libraries\n",
    "import cv2 as cv\n",
    "import numpy as np\n",
    "\n",
    "\n",
    "cap = cv.VideoCapture(\"resources/video.mp4 \")\n",
    "frameNr = 0\n",
    "while(True):\n",
    "    success, frame = cap.read()\n",
    "    if success:\n",
    "        cv.imwrite(f\"resources/Frames/frame_{frameNr}.jpg\", frame)\n",
    "    else:\n",
    "        break\n",
    "    frameNr = frameNr+2\n",
    "cap.release()"
   ]
  }
 ],
 "metadata": {
  "kernelspec": {
   "display_name": "base",
   "language": "python",
   "name": "python3"
  },
  "language_info": {
   "codemirror_mode": {
    "name": "ipython",
    "version": 3
   },
   "file_extension": ".py",
   "mimetype": "text/x-python",
   "name": "python",
   "nbconvert_exporter": "python",
   "pygments_lexer": "ipython3",
   "version": "3.11.1"
  },
  "orig_nbformat": 4,
  "vscode": {
   "interpreter": {
    "hash": "a46ab26e6b0650ab1e4a5d5ebf2154ccc3b76ac68921e73180d67a8dee951259"
   }
  }
 },
 "nbformat": 4,
 "nbformat_minor": 2
}
